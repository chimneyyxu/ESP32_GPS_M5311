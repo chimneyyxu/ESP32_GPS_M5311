{
 "cells": [
  {
   "cell_type": "code",
   "execution_count": 2,
   "metadata": {},
   "outputs": [
    {
     "name": "stdout",
     "output_type": "stream",
     "text": [
      "version=2022-05-01&res=userid%2F196883&et=2535782005&method=sha1&sign=fjfrucu%2BzzcZFk%2FgYGlp7w4jlJo%3D\n"
     ]
    }
   ],
   "source": [
    "import base64\n",
    "import hmac\n",
    "import time\n",
    "from urllib.parse import quote\n",
    "    \n",
    "def token(user_id,access_key):\n",
    "    \n",
    "        version = '2022-05-01'\n",
    "    \n",
    "        res = 'userid/%s' % user_id\n",
    "    \n",
    "        # 用户自定义token过期时间\n",
    "        #et = str(int(time.time()) + 3600)\n",
    "        et = '2535782005'\n",
    "        # 签名方法，支持md5、sha1、sha256\n",
    "        method = 'sha1'\n",
    "    \n",
    "        # 对access_key进行decode\n",
    "        key = base64.b64decode(access_key)\n",
    "    \n",
    "        # 计算sign\n",
    "        org = et + '\\n' + method + '\\n' + res + '\\n' + version\n",
    "        sign_b = hmac.new(key=key, msg=org.encode(), digestmod=method)\n",
    "        sign = base64.b64encode(sign_b.digest()).decode()\n",
    "    \n",
    "        # value 部分进行url编码，method/res/version值较为简单无需编码\n",
    "        sign = quote(sign, safe='')\n",
    "        res = quote(res, safe='')\n",
    "    \n",
    "        # token参数拼接\n",
    "        token = 'version=%s&res=%s&et=%s&method=%s&sign=%s' % (version, res, et, method, sign)\n",
    "    \n",
    "        return token\n",
    "    \n",
    "    \n",
    "if __name__ == '__main__':\n",
    "        user_id = '196883'\n",
    "        access_key = 'fmJ+fxt+cybWWsTt8tqO2zb8uvE5AbHDZ/RsoYyZkxrTRm4e1XfXi+JYWXpMnLTVT/+4tr0JXuUMBJu9OCRA6g=='\n",
    "    \n",
    "        print(token(user_id,access_key))"
   ]
  }
 ],
 "metadata": {
  "kernelspec": {
   "display_name": "Python 3.10.4 64-bit",
   "language": "python",
   "name": "python3"
  },
  "language_info": {
   "codemirror_mode": {
    "name": "ipython",
    "version": 3
   },
   "file_extension": ".py",
   "mimetype": "text/x-python",
   "name": "python",
   "nbconvert_exporter": "python",
   "pygments_lexer": "ipython3",
   "version": "3.10.4"
  },
  "orig_nbformat": 4,
  "vscode": {
   "interpreter": {
    "hash": "68c83780578f9461562d139d91a11619df9531099ddc8944c86ce3fde5e10d0e"
   }
  }
 },
 "nbformat": 4,
 "nbformat_minor": 2
}
